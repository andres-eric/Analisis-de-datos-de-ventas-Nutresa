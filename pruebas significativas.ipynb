{
 "cells": [
  {
   "cell_type": "code",
   "execution_count": 1,
   "metadata": {},
   "outputs": [],
   "source": [
    "import numpy as np\n",
    "import pandas as pd\n",
    "import pyodbc\n",
    "import sqlite3\n",
    "import math\n",
    "import seaborn as sns\n",
    "from sklearn.model_selection import train_test_split\n",
    "from imblearn.over_sampling import RandomOverSampler \n",
    "from scipy.stats import rv_discrete\n",
    "from scipy.stats import t, binom, chi2, f\n",
    "\n",
    "import importlib\n",
    "import funciones_eda\n",
    "importlib.reload(funciones_eda)\n",
    "from funciones_eda import *\n",
    "\n",
    "import importlib\n",
    "import funciones_m\n",
    "importlib.reload(funciones_m)\n",
    "from funciones_m import *\n",
    "\n",
    "import importlib\n",
    "import funciones_distribucion\n",
    "importlib.reload(funciones_distribucion)\n",
    "from funciones_distribucion import *"
   ]
  },
  {
   "cell_type": "code",
   "execution_count": 2,
   "metadata": {},
   "outputs": [],
   "source": [
    "url = 'df_filtrado.csv'\n",
    "df = pd.read_csv(url, index_col=None)\n",
    "df.drop('index', axis=1, inplace=True)"
   ]
  },
  {
   "cell_type": "markdown",
   "metadata": {},
   "source": [
    "### Experimentos estadísticos y pruebas significativas"
   ]
  },
  {
   "cell_type": "code",
   "execution_count": 5,
   "metadata": {},
   "outputs": [
    {
     "name": "stdout",
     "output_type": "stream",
     "text": [
      "Tasa de conversión Grupo A: 196.34%\n",
      "Tasa de conversión Grupo B: 526.27%\n",
      "\n",
      "Prueba T:\n",
      "T-statistic: -45.1354\n",
      "P-value: 0.0000000000000000000000\n",
      "Conclusión: Hay una diferencia estadísticamente significativa entre los grupos.\n"
     ]
    }
   ],
   "source": [
    "import pandas as pd\n",
    "from scipy.stats import ttest_ind\n",
    "import matplotlib.pyplot as plt\n",
    "\n",
    "# 1. Cargar los datos\n",
    "# Asegúrate de que las columnas sean 'grupo' y 'conversion'\n",
    "\n",
    "# 2. Dividir los grupos\n",
    "grupo_A = df[df['TIPOL_TRANS_NAME'] == 'Minimercado Independ']['QTY']\n",
    "grupo_B = df[df['TIPOL_TRANS_NAME'] == 'Superete Independ']['QTY']\n",
    "\n",
    "# 3. Calcular tasas de conversión\n",
    "conversion_A = grupo_A.mean()\n",
    "conversion_B = grupo_B.mean()\n",
    "\n",
    "print(f\"Tasa de conversión Grupo A: {conversion_A:.2%}\")\n",
    "print(f\"Tasa de conversión Grupo B: {conversion_B:.2%}\")\n",
    "\n",
    "# 4. Prueba estadística (t-test)\n",
    "t_stat, p_value = ttest_ind(grupo_A, grupo_B)\n",
    "\n",
    "print(\"\\nPrueba T:\")\n",
    "print(f\"T-statistic: {t_stat:.4f}\")\n",
    "print(f\"P-value: {p_value:.22f}\")\n",
    "\n",
    "if p_value < 0.05:\n",
    "    print(\"Conclusión: Hay una diferencia estadísticamente significativa entre los grupos.\")\n",
    "else:\n",
    "    print(\"Conclusión: No hay suficiente evidencia para afirmar que los grupos son diferentes.\")"
   ]
  }
 ],
 "metadata": {
  "kernelspec": {
   "display_name": "Python 3",
   "language": "python",
   "name": "python3"
  },
  "language_info": {
   "codemirror_mode": {
    "name": "ipython",
    "version": 3
   },
   "file_extension": ".py",
   "mimetype": "text/x-python",
   "name": "python",
   "nbconvert_exporter": "python",
   "pygments_lexer": "ipython3",
   "version": "3.12.7"
  }
 },
 "nbformat": 4,
 "nbformat_minor": 2
}
