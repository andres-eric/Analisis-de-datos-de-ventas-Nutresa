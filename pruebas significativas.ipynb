{
 "cells": [
  {
   "cell_type": "code",
   "execution_count": 48,
   "metadata": {},
   "outputs": [],
   "source": [
    "import numpy as np\n",
    "import pandas as pd\n",
    "import pyodbc\n",
    "import sqlite3\n",
    "import math\n",
    "import seaborn as sns\n",
    "from sklearn.model_selection import train_test_split\n",
    "from imblearn.over_sampling import RandomOverSampler \n",
    "from scipy.stats import rv_discrete\n",
    "from scipy.stats import t, binom, chi2, f\n",
    "from scipy.stats import ttest_ind\n",
    "\n",
    "import importlib\n",
    "import funciones_eda\n",
    "importlib.reload(funciones_eda)\n",
    "from funciones_eda import *\n",
    "\n",
    "import importlib\n",
    "import funciones_m\n",
    "importlib.reload(funciones_m)\n",
    "from funciones_m import *\n",
    "\n",
    "import importlib\n",
    "import funciones_distribucion\n",
    "importlib.reload(funciones_distribucion)\n",
    "from funciones_distribucion import *\n",
    "\n",
    "import importlib\n",
    "import funciones_pruebas_significativas\n",
    "importlib.reload(funciones_pruebas_significativas)\n",
    "from funciones_pruebas_significativas import *"
   ]
  },
  {
   "cell_type": "code",
   "execution_count": 49,
   "metadata": {},
   "outputs": [],
   "source": [
    "url = 'df_filtrado.csv'\n",
    "df = pd.read_csv(url, index_col=None)\n",
    "df.drop('index', axis=1, inplace=True)"
   ]
  },
  {
   "cell_type": "markdown",
   "metadata": {},
   "source": [
    "### Experimentos estadísticos y pruebas significativas"
   ]
  },
  {
   "cell_type": "code",
   "execution_count": 50,
   "metadata": {},
   "outputs": [
    {
     "name": "stdout",
     "output_type": "stream",
     "text": [
      "Tasa de venta Grupo A Minimercado Independ: 196.34% \n",
      "Tasa de venta Grupo B Superete Independ: 526.27%\n",
      "Estadístico U: 89790622.0\n",
      "Valor p: 0.0\n",
      "Se rechaza la hipótesis nula: las distribuciones son diferentes.\n"
     ]
    }
   ],
   "source": [
    "Prueba_mannwhitneyu(df,'TIPOL_TRANS_NAME','QTY','Minimercado Independ','Superete Independ')"
   ]
  },
  {
   "cell_type": "code",
   "execution_count": 51,
   "metadata": {},
   "outputs": [
    {
     "name": "stdout",
     "output_type": "stream",
     "text": [
      "Tasa de venta Grupo A Minimercado Independ: 196.34% \n",
      "Tasa de venta Grupo B Superete Independ: 526.27%\n",
      "Estadístico U: 89790622.0\n",
      "Valor p: 0.0\n",
      "Conclusión: Se rechaza la hipótesis nula: el grupo 1 tiene valores significativamente menores que el grupo 2.\n"
     ]
    }
   ],
   "source": [
    "Prueba_mannwhitneyu_bidireccional(df,'TIPOL_TRANS_NAME','QTY','Minimercado Independ','Superete Independ')"
   ]
  },
  {
   "cell_type": "markdown",
   "metadata": {},
   "source": [
    "Grupo A (Minimercado Independ): Tiene una  promedio compra del 196.34%.\n",
    "Grupo B (Superete Independ): Tiene una promedio de compra significativamente más alta, del 526.27%.\n",
    "\n",
    "Esto indica que, en promedio, los clientes del grupo \"Superete Independ\" compran aproximadamente 5.26 veces la cantidad base, mientras que los del grupo \"Minimercado Independ\" compran alrededor de 1.96 veces la cantidad base.\n",
    "\n",
    "\n",
    "**prueba de hipotesis**\n",
    "\n",
    "La prueba muestra una diferencia estadísticamente significativa entre los grupos.\n",
    "Esto significa que el comportamiento de compra (medido por QTY) es significativamente diferente entre los clientes de los grupos \"Minimercado Independ\" y \"Superete Independ.\"\n",
    "\n",
    "Los clientes del grupo \"Superete Independ\" tienden a realizar compras más grandes o frecuentes en comparación con \"Minimercado Independ\"."
   ]
  }
 ],
 "metadata": {
  "kernelspec": {
   "display_name": "Python 3",
   "language": "python",
   "name": "python3"
  },
  "language_info": {
   "codemirror_mode": {
    "name": "ipython",
    "version": 3
   },
   "file_extension": ".py",
   "mimetype": "text/x-python",
   "name": "python",
   "nbconvert_exporter": "python",
   "pygments_lexer": "ipython3",
   "version": "3.12.7"
  }
 },
 "nbformat": 4,
 "nbformat_minor": 2
}
