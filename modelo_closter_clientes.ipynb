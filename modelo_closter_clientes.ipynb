{
 "cells": [
  {
   "cell_type": "code",
   "execution_count": 162,
   "metadata": {},
   "outputs": [],
   "source": [
    "# ------------------------- #\n",
    "# Importación de librerías  #\n",
    "# ------------------------- #\n",
    "\n",
    "# Librerías estándar para análisis de datos y cálculos matemáticos\n",
    "import numpy as np\n",
    "import pandas as pd\n",
    "import math\n",
    "import random\n",
    "\n",
    "# Librerías para bases de datos\n",
    "import pyodbc\n",
    "import sqlite3\n",
    "\n",
    "# Visualización\n",
    "import seaborn as sns\n",
    "\n",
    "# Machine Learning y modelado\n",
    "from sklearn.model_selection import train_test_split\n",
    "from sklearn.cluster import KMeans\n",
    "from imblearn.over_sampling import RandomOverSampler\n",
    "from sklearn.cluster import KMeans\n",
    "from sklearn.preprocessing import StandardScaler\n",
    "from sklearn.metrics import silhouette_score\n",
    "\n",
    "# Estadísticas y pruebas de hipótesis\n",
    "from scipy.stats import (\n",
    "    rv_discrete, t, binom, chi2, f, \n",
    "    ttest_ind\n",
    ")\n",
    "from sklearn.utils import resample\n",
    "\n",
    "# ------------------------- #\n",
    "# Importación de módulos    #\n",
    "# ------------------------- #\n",
    "\n",
    "# Modulo EDA\n",
    "import importlib\n",
    "import funciones_eda\n",
    "importlib.reload(funciones_eda)\n",
    "from funciones_eda import *\n",
    "\n",
    "# Módulo de funciones personalizadas\n",
    "import funciones_m\n",
    "importlib.reload(funciones_m)\n",
    "from funciones_m import *\n",
    "\n",
    "# Módulo de distribución\n",
    "import funciones_distribucion\n",
    "importlib.reload(funciones_distribucion)\n",
    "from funciones_distribucion import *\n",
    "\n",
    "# Módulo de pruebas significativas\n",
    "import funciones_pruebas_significativas\n",
    "importlib.reload(funciones_pruebas_significativas)\n",
    "from funciones_pruebas_significativas import *\n",
    "\n",
    "# Módulo de clostering\n",
    "import funciones_clostering\n",
    "importlib.reload(funciones_clostering)\n",
    "from funciones_clostering import *\n"
   ]
  },
  {
   "cell_type": "code",
   "execution_count": 163,
   "metadata": {},
   "outputs": [],
   "source": [
    "url = 'df_filtrado.csv'\n",
    "df = pd.read_csv(url, index_col=None)\n",
    "df.drop('index', axis=1, inplace=True)"
   ]
  },
  {
   "cell_type": "code",
   "execution_count": 164,
   "metadata": {},
   "outputs": [],
   "source": [
    "df_Minimercado=df[df['TIPOL_TRANS_NAME'] == 'Minimercado Independ']"
   ]
  },
  {
   "cell_type": "code",
   "execution_count": 165,
   "metadata": {},
   "outputs": [
    {
     "data": {
      "text/plain": [
       "1775"
      ]
     },
     "execution_count": 165,
     "metadata": {},
     "output_type": "execute_result"
    }
   ],
   "source": [
    "df_Minimercado['CUSTOMER_ID'].nunique()"
   ]
  },
  {
   "cell_type": "markdown",
   "metadata": {},
   "source": [
    "se realiza análisis desagregados para \"Minimercado Independ\" para identificar patrones únicos y explorar su potencial de crecimiento."
   ]
  },
  {
   "cell_type": "markdown",
   "metadata": {},
   "source": [
    "### Agrupar K-means para clientes"
   ]
  },
  {
   "cell_type": "code",
   "execution_count": 166,
   "metadata": {},
   "outputs": [
    {
     "data": {
      "text/html": [
       "<div>\n",
       "<style scoped>\n",
       "    .dataframe tbody tr th:only-of-type {\n",
       "        vertical-align: middle;\n",
       "    }\n",
       "\n",
       "    .dataframe tbody tr th {\n",
       "        vertical-align: top;\n",
       "    }\n",
       "\n",
       "    .dataframe thead th {\n",
       "        text-align: right;\n",
       "    }\n",
       "</style>\n",
       "<table border=\"1\" class=\"dataframe\">\n",
       "  <thead>\n",
       "    <tr style=\"text-align: right;\">\n",
       "      <th></th>\n",
       "      <th>SALES_ORDER_ID</th>\n",
       "      <th>QTY</th>\n",
       "      <th>PRODUCT_ID</th>\n",
       "    </tr>\n",
       "    <tr>\n",
       "      <th>CUSTOMER_ID</th>\n",
       "      <th></th>\n",
       "      <th></th>\n",
       "      <th></th>\n",
       "    </tr>\n",
       "  </thead>\n",
       "  <tbody>\n",
       "    <tr>\n",
       "      <th>30613</th>\n",
       "      <td>11</td>\n",
       "      <td>56.0</td>\n",
       "      <td>16</td>\n",
       "    </tr>\n",
       "    <tr>\n",
       "      <th>30375</th>\n",
       "      <td>8</td>\n",
       "      <td>61.0</td>\n",
       "      <td>10</td>\n",
       "    </tr>\n",
       "    <tr>\n",
       "      <th>34612</th>\n",
       "      <td>8</td>\n",
       "      <td>52.0</td>\n",
       "      <td>10</td>\n",
       "    </tr>\n",
       "  </tbody>\n",
       "</table>\n",
       "</div>"
      ],
      "text/plain": [
       "             SALES_ORDER_ID   QTY  PRODUCT_ID\n",
       "CUSTOMER_ID                                  \n",
       "30613                    11  56.0          16\n",
       "30375                     8  61.0          10\n",
       "34612                     8  52.0          10"
      ]
     },
     "execution_count": 166,
     "metadata": {},
     "output_type": "execute_result"
    }
   ],
   "source": [
    "clientes=agrupar_closter(df_Minimercado)\n",
    "clientes.head(3)"
   ]
  },
  {
   "cell_type": "markdown",
   "metadata": {},
   "source": [
    "El conjunto de datos filtrado para las categorías \"Minimercado Independ\"  contiene 1775 clientes. por lo que se va a implementar un modelo no supervisado de clostering como \n",
    "K-means que  permite reducir esta complejidad agrupando clientes con comportamientos similares en un número manejable de clústeres.\n",
    "Una vez segmentados los clientes, se puede usar la asignación de clústeres como una nueva característica de clientes y remplazar la variable original de clientes por el closter."
   ]
  },
  {
   "cell_type": "markdown",
   "metadata": {},
   "source": [
    "las caracteriticas con las que se agrupo los clientes fueron:\n",
    "Frecuencia de compra, \n",
    "Monto total pedido cliente,\n",
    "Tipos de productos. \n"
   ]
  },
  {
   "cell_type": "markdown",
   "metadata": {},
   "source": [
    "### metodo del codo "
   ]
  },
  {
   "cell_type": "markdown",
   "metadata": {},
   "source": [
    "se implementa la tecnica del codo para determinar el número óptimo de clústeres, en el algoritmo K-means. Evalúa cómo la inercia (suma de las distancias al cuadrado entre cada punto y su centroide asignado) disminuye a medida que se incrementa el número de clústeres."
   ]
  },
  {
   "cell_type": "code",
   "execution_count": 167,
   "metadata": {},
   "outputs": [
    {
     "data": {
      "image/png": "[encoded data removed]",
      "text/plain": [
       "<Figure size 640x480 with 1 Axes>"
      ]
     },
     "metadata": {},
     "output_type": "display_data"
    }
   ],
   "source": [
    "metodo_codo(clientes,20)"
   ]
  },
  {
   "cell_type": "markdown",
   "metadata": {},
   "source": [
    "En el gráfico se observa una disminución rápida de la inercia al aumentar el número de clústeres, pero esta disminución se estabiliza después de cierto punto. Este \"punto de inflexión\" o \"codo\" indica el número óptimo de clústeres"
   ]
  },
  {
   "cell_type": "markdown",
   "metadata": {},
   "source": [
    "En este caso, el codo parece estar alrededor de 4 o 5 clústeres , ya que después de ese punto, la pendiente se reduce distribuida y la mejora es marginal."
   ]
  },
  {
   "cell_type": "markdown",
   "metadata": {},
   "source": [
    "### indice de silueta"
   ]
  },
  {
   "cell_type": "markdown",
   "metadata": {},
   "source": [
    "El índice de silueta mide qué tan bien se agrupan los puntos en un cluster, teniendo en cuenta tanto la cohesión dentro del cluster como la separación entre clusters. Su rango va de -1 a 1:\n",
    "\n",
    "- Cercano a 1 : Los puntos están bien agrupados y claramente separados de otros clusters.\n",
    "- Cercano a 0 : Los puntos están en la frontera entre clusters.\n",
    "- Cercano a -1 : Los puntos probablemente estén en el grupo equivocado"
   ]
  },
  {
   "cell_type": "code",
   "execution_count": 168,
   "metadata": {},
   "outputs": [
    {
     "data": {
      "image/png": "[encoded data removed]",
      "text/plain": [
       "<Figure size 800x500 with 1 Axes>"
      ]
     },
     "metadata": {},
     "output_type": "display_data"
    }
   ],
   "source": [
    "kmeans_con_silueta(df_Minimercado, ['SALES_ORDER_ID', 'QTY', 'PRODUCT_ID'],min_clusters=2, max_clusters=8)"
   ]
  },
  {
   "cell_type": "markdown",
   "metadata": {},
   "source": [
    "El índice de silueta alcanza su valor máximo para 5 grupos . Esto indica que 5 clusters es el número óptimo según esta métrica, ya que los datos están mejores agrupados en comparación con otros números de clusters.\n",
    "\n",
    "El índice de silueta disminuye rápidamente después de 6 clusters, Basado en el 5 clusters es el número óptimo para agrupar los datos"
   ]
  },
  {
   "cell_type": "markdown",
   "metadata": {},
   "source": [
    "### modelo de closter de clientes"
   ]
  },
  {
   "cell_type": "code",
   "execution_count": 169,
   "metadata": {},
   "outputs": [],
   "source": [
    "modelo_clostering=modelo_kmeans(clientes,6)\n",
    "centroide_=centroide(clientes,6)"
   ]
  },
  {
   "cell_type": "code",
   "execution_count": 170,
   "metadata": {},
   "outputs": [],
   "source": [
    "df_Minimercado.reset_index(inplace=True)\n",
    "modelo_clostering.reset_index(inplace=True)\n",
    "df_combinado = pd.merge(df_Minimercado, modelo_clostering[['CUSTOMER_ID', 'Cluster']], on='CUSTOMER_ID', how='left')"
   ]
  },
  {
   "cell_type": "code",
   "execution_count": 171,
   "metadata": {},
   "outputs": [],
   "source": [
    "df_combinado=df_combinado[['ORDER_DATE','Cluster','PRODUCT_ID'\\\n",
    "    ,'QTY','Semana']]"
   ]
  },
  {
   "cell_type": "code",
   "execution_count": 172,
   "metadata": {},
   "outputs": [
    {
     "data": {
      "text/html": [
       "<div>\n",
       "<style scoped>\n",
       "    .dataframe tbody tr th:only-of-type {\n",
       "        vertical-align: middle;\n",
       "    }\n",
       "\n",
       "    .dataframe tbody tr th {\n",
       "        vertical-align: top;\n",
       "    }\n",
       "\n",
       "    .dataframe thead th {\n",
       "        text-align: right;\n",
       "    }\n",
       "</style>\n",
       "<table border=\"1\" class=\"dataframe\">\n",
       "  <thead>\n",
       "    <tr style=\"text-align: right;\">\n",
       "      <th></th>\n",
       "      <th>columns</th>\n",
       "      <th>tipo de dato</th>\n",
       "      <th>categorias</th>\n",
       "    </tr>\n",
       "  </thead>\n",
       "  <tbody>\n",
       "    <tr>\n",
       "      <th>0</th>\n",
       "      <td>ORDER_DATE</td>\n",
       "      <td>object</td>\n",
       "      <td>52</td>\n",
       "    </tr>\n",
       "    <tr>\n",
       "      <th>1</th>\n",
       "      <td>CUSTOMER_ID</td>\n",
       "      <td>int64</td>\n",
       "      <td>1775</td>\n",
       "    </tr>\n",
       "    <tr>\n",
       "      <th>2</th>\n",
       "      <td>PRODUCT_ID</td>\n",
       "      <td>int64</td>\n",
       "      <td>51</td>\n",
       "    </tr>\n",
       "    <tr>\n",
       "      <th>3</th>\n",
       "      <td>QTY</td>\n",
       "      <td>float64</td>\n",
       "      <td>19</td>\n",
       "    </tr>\n",
       "    <tr>\n",
       "      <th>4</th>\n",
       "      <td>Semana</td>\n",
       "      <td>int64</td>\n",
       "      <td>9</td>\n",
       "    </tr>\n",
       "  </tbody>\n",
       "</table>\n",
       "</div>"
      ],
      "text/plain": [
       "       columns tipo de dato  categorias\n",
       "0   ORDER_DATE       object          52\n",
       "1  CUSTOMER_ID        int64        1775\n",
       "2   PRODUCT_ID        int64          51\n",
       "3          QTY      float64          19\n",
       "4       Semana        int64           9"
      ]
     },
     "execution_count": 172,
     "metadata": {},
     "output_type": "execute_result"
    }
   ],
   "source": [
    "resumen_inicial(df_Minimercado[['ORDER_DATE','CUSTOMER_ID','PRODUCT_ID'\\\n",
    "    ,'QTY','Semana']])"
   ]
  },
  {
   "cell_type": "code",
   "execution_count": 173,
   "metadata": {},
   "outputs": [
    {
     "data": {
      "text/html": [
       "<div>\n",
       "<style scoped>\n",
       "    .dataframe tbody tr th:only-of-type {\n",
       "        vertical-align: middle;\n",
       "    }\n",
       "\n",
       "    .dataframe tbody tr th {\n",
       "        vertical-align: top;\n",
       "    }\n",
       "\n",
       "    .dataframe thead th {\n",
       "        text-align: right;\n",
       "    }\n",
       "</style>\n",
       "<table border=\"1\" class=\"dataframe\">\n",
       "  <thead>\n",
       "    <tr style=\"text-align: right;\">\n",
       "      <th></th>\n",
       "      <th>columns</th>\n",
       "      <th>tipo de dato</th>\n",
       "      <th>categorias</th>\n",
       "    </tr>\n",
       "  </thead>\n",
       "  <tbody>\n",
       "    <tr>\n",
       "      <th>0</th>\n",
       "      <td>ORDER_DATE</td>\n",
       "      <td>object</td>\n",
       "      <td>52</td>\n",
       "    </tr>\n",
       "    <tr>\n",
       "      <th>1</th>\n",
       "      <td>Cluster</td>\n",
       "      <td>int32</td>\n",
       "      <td>6</td>\n",
       "    </tr>\n",
       "    <tr>\n",
       "      <th>2</th>\n",
       "      <td>PRODUCT_ID</td>\n",
       "      <td>int64</td>\n",
       "      <td>51</td>\n",
       "    </tr>\n",
       "    <tr>\n",
       "      <th>3</th>\n",
       "      <td>QTY</td>\n",
       "      <td>float64</td>\n",
       "      <td>19</td>\n",
       "    </tr>\n",
       "    <tr>\n",
       "      <th>4</th>\n",
       "      <td>Semana</td>\n",
       "      <td>int64</td>\n",
       "      <td>9</td>\n",
       "    </tr>\n",
       "  </tbody>\n",
       "</table>\n",
       "</div>"
      ],
      "text/plain": [
       "      columns tipo de dato  categorias\n",
       "0  ORDER_DATE       object          52\n",
       "1     Cluster        int32           6\n",
       "2  PRODUCT_ID        int64          51\n",
       "3         QTY      float64          19\n",
       "4      Semana        int64           9"
      ]
     },
     "execution_count": 173,
     "metadata": {},
     "output_type": "execute_result"
    }
   ],
   "source": [
    "resumen_inicial(df_combinado)"
   ]
  },
  {
   "cell_type": "markdown",
   "metadata": {},
   "source": [
    "se paso de 1,175 clientes individuales a 6 clusters , representando grupos con características similares. Esto simplifica significativamente el modelo y permite generalizar patrones en lugar de trabajar de forma individual. sin embargo a un tiene 51 productos distintos , lo que indica una gran diversidad en las preferencias de compra. Esto es un reto, ya que los productos podrían variar significativamente entre clusters.\n",
    "\n",
    "podemos considerar agrupar también los productos en categorías más amplias para simplificar el análisis."
   ]
  },
  {
   "cell_type": "markdown",
   "metadata": {},
   "source": [
    "mañana hacer el mismo procesos pero para los productos y revisar como mejorar la inercia del clostering"
   ]
  }
 ],
 "metadata": {
  "kernelspec": {
   "display_name": "Python 3",
   "language": "python",
   "name": "python3"
  },
  "language_info": {
   "codemirror_mode": {
    "name": "ipython",
    "version": 3
   },
   "file_extension": ".py",
   "mimetype": "text/x-python",
   "name": "python",
   "nbconvert_exporter": "python",
   "pygments_lexer": "ipython3",
   "version": "3.12.7"
  }
 },
 "nbformat": 4,
 "nbformat_minor": 2
}
