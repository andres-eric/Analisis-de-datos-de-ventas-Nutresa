{
 "cells": [
  {
   "cell_type": "code",
   "execution_count": 96,
   "metadata": {},
   "outputs": [],
   "source": [
    "# ------------------------- #\n",
    "# Importación de librerías  #\n",
    "# ------------------------- #\n",
    "\n",
    "# Librerías estándar para análisis de datos y cálculos matemáticos\n",
    "import numpy as np\n",
    "import pandas as pd\n",
    "import math\n",
    "import random\n",
    "\n",
    "# Librerías para bases de datos\n",
    "#import pyodbc\n",
    "import sqlite3\n",
    "\n",
    "# Visualización\n",
    "import seaborn as sns\n",
    "\n",
    "# Machine Learning y modelado\n",
    "from sklearn.model_selection import train_test_split\n",
    "from sklearn.cluster import KMeans\n",
    "from imblearn.over_sampling import RandomOverSampler\n",
    "from sklearn.cluster import KMeans\n",
    "import joblib\n",
    "\n",
    "# Estadísticas y pruebas de hipótesis\n",
    "from scipy.stats import (\n",
    "    rv_discrete, t, binom, chi2, f, \n",
    "    ttest_ind\n",
    ")\n",
    "from sklearn.utils import resample\n",
    "\n",
    "# ------------------------- #\n",
    "# Importación de módulos    #\n",
    "# ------------------------- #\n",
    "\n",
    "# Modulo EDA\n",
    "import importlib\n",
    "import funciones_eda\n",
    "importlib.reload(funciones_eda)\n",
    "from funciones_eda import *\n",
    "\n",
    "# Módulo de funciones personalizadas\n",
    "import funciones_m\n",
    "importlib.reload(funciones_m)\n",
    "from funciones_m import *\n",
    "\n",
    "# Módulo de distribución\n",
    "import funciones_distribucion\n",
    "importlib.reload(funciones_distribucion)\n",
    "from funciones_distribucion import *\n",
    "\n",
    "# Módulo de pruebas significativas\n",
    "import funciones_pruebas_significativas\n",
    "importlib.reload(funciones_pruebas_significativas)\n",
    "from funciones_pruebas_significativas import *\n",
    "\n",
    "# Módulo de clostering\n",
    "import funciones_clostering\n",
    "importlib.reload(funciones_clostering)\n",
    "from funciones_clostering import *\n"
   ]
  },
  {
   "cell_type": "markdown",
   "metadata": {},
   "source": [
    "### Pip line de datos nuevos"
   ]
  },
  {
   "cell_type": "code",
   "execution_count": 97,
   "metadata": {},
   "outputs": [],
   "source": [
    "url = 'datos_nuevos_prediccion.csv'\n",
    "df = pd.read_csv(url, index_col=None)\n",
    "#df.drop('index', axis=1, inplace=True)"
   ]
  },
  {
   "cell_type": "code",
   "execution_count": 98,
   "metadata": {},
   "outputs": [],
   "source": [
    "# tablas con encodin producto y cliente\n",
    "url_2 = 'tabla_target_cliente.csv'\n",
    "df_cliente = pd.read_csv(url_2, index_col=None)\n",
    "df_cliente=df_cliente.drop_duplicates()\n",
    "# tablas con encodin producto y cliente\n",
    "url_ = 'tabla_target_producto.csv'\n",
    "df_producto = pd.read_csv(url_, index_col=None)\n",
    "df_producto=df_producto.drop_duplicates()\n",
    "#df.drop('index', axis=1, inplace=True)"
   ]
  },
  {
   "cell_type": "code",
   "execution_count": 99,
   "metadata": {},
   "outputs": [],
   "source": [
    "df_main=df.merge(df_cliente, on='CUSTOMER_ID', how='inner')\n",
    "df_main=df_main.merge(df_producto, on='PRODUCT_ID', how='inner')\n",
    "\n",
    "df_main_=df_main[['customer_target_mean','product_target_mean','Semana']]"
   ]
  },
  {
   "cell_type": "code",
   "execution_count": 100,
   "metadata": {},
   "outputs": [],
   "source": [
    "df_main_ = df_main_.rename(columns={\n",
    "    'customer_target_mean': 'target_cliente',\n",
    "    'product_target_mean': 'target_producto',\n",
    "})"
   ]
  },
  {
   "cell_type": "code",
   "execution_count": 101,
   "metadata": {},
   "outputs": [],
   "source": [
    "df_main_=df_main_.sort_values(by=['target_cliente','target_producto','Semana'])"
   ]
  },
  {
   "cell_type": "code",
   "execution_count": 102,
   "metadata": {},
   "outputs": [],
   "source": [
    "df_main_=df_main_.reset_index(drop=True)\n"
   ]
  },
  {
   "cell_type": "markdown",
   "metadata": {},
   "source": [
    "### Prediccion de nuevos datos "
   ]
  },
  {
   "cell_type": "code",
   "execution_count": 103,
   "metadata": {},
   "outputs": [],
   "source": [
    "modelo = joblib.load('best_model.pkl')\n",
    "scaler = joblib.load('scaler.pkl')"
   ]
  },
  {
   "cell_type": "code",
   "execution_count": 104,
   "metadata": {},
   "outputs": [],
   "source": [
    "# Escalar los datos nuevos\n",
    "nuevos_datos_escalados = scaler.transform(df_main_)"
   ]
  },
  {
   "cell_type": "code",
   "execution_count": 105,
   "metadata": {},
   "outputs": [],
   "source": [
    "y_proba = modelo.predict_proba(nuevos_datos_escalados)[:, 1]"
   ]
  },
  {
   "cell_type": "code",
   "execution_count": 106,
   "metadata": {},
   "outputs": [],
   "source": [
    "y_proba_lista = y_proba.tolist()"
   ]
  },
  {
   "cell_type": "code",
   "execution_count": 107,
   "metadata": {},
   "outputs": [],
   "source": [
    "df_main['probabilidad_compra']=pd.Series(y_proba_lista).round(1)"
   ]
  },
  {
   "cell_type": "code",
   "execution_count": 108,
   "metadata": {},
   "outputs": [],
   "source": [
    "df_main=df_main[['CUSTOMER_ID','PRODUCT_ID','Semana','probabilidad_compra']]"
   ]
  },
  {
   "cell_type": "code",
   "execution_count": 109,
   "metadata": {},
   "outputs": [],
   "source": [
    "df_main.to_csv('datos probabilidad.csv', index=False)"
   ]
  },
  {
   "cell_type": "code",
   "execution_count": 110,
   "metadata": {},
   "outputs": [
    {
     "data": {
      "text/html": [
       "<div>\n",
       "<style scoped>\n",
       "    .dataframe tbody tr th:only-of-type {\n",
       "        vertical-align: middle;\n",
       "    }\n",
       "\n",
       "    .dataframe tbody tr th {\n",
       "        vertical-align: top;\n",
       "    }\n",
       "\n",
       "    .dataframe thead th {\n",
       "        text-align: right;\n",
       "    }\n",
       "</style>\n",
       "<table border=\"1\" class=\"dataframe\">\n",
       "  <thead>\n",
       "    <tr style=\"text-align: right;\">\n",
       "      <th></th>\n",
       "      <th>CUSTOMER_ID</th>\n",
       "      <th>PRODUCT_ID</th>\n",
       "      <th>Semana</th>\n",
       "      <th>probabilidad_compra</th>\n",
       "    </tr>\n",
       "  </thead>\n",
       "  <tbody>\n",
       "    <tr>\n",
       "      <th>0</th>\n",
       "      <td>29446</td>\n",
       "      <td>26</td>\n",
       "      <td>25</td>\n",
       "      <td>0.0</td>\n",
       "    </tr>\n",
       "    <tr>\n",
       "      <th>1</th>\n",
       "      <td>29446</td>\n",
       "      <td>28</td>\n",
       "      <td>25</td>\n",
       "      <td>0.7</td>\n",
       "    </tr>\n",
       "    <tr>\n",
       "      <th>2</th>\n",
       "      <td>29446</td>\n",
       "      <td>79</td>\n",
       "      <td>25</td>\n",
       "      <td>0.5</td>\n",
       "    </tr>\n",
       "    <tr>\n",
       "      <th>3</th>\n",
       "      <td>29446</td>\n",
       "      <td>81</td>\n",
       "      <td>25</td>\n",
       "      <td>0.6</td>\n",
       "    </tr>\n",
       "    <tr>\n",
       "      <th>4</th>\n",
       "      <td>29446</td>\n",
       "      <td>87</td>\n",
       "      <td>25</td>\n",
       "      <td>0.7</td>\n",
       "    </tr>\n",
       "    <tr>\n",
       "      <th>5</th>\n",
       "      <td>29446</td>\n",
       "      <td>91</td>\n",
       "      <td>25</td>\n",
       "      <td>0.8</td>\n",
       "    </tr>\n",
       "    <tr>\n",
       "      <th>6</th>\n",
       "      <td>29446</td>\n",
       "      <td>105</td>\n",
       "      <td>25</td>\n",
       "      <td>0.0</td>\n",
       "    </tr>\n",
       "    <tr>\n",
       "      <th>7</th>\n",
       "      <td>29446</td>\n",
       "      <td>120</td>\n",
       "      <td>25</td>\n",
       "      <td>0.8</td>\n",
       "    </tr>\n",
       "    <tr>\n",
       "      <th>8</th>\n",
       "      <td>29446</td>\n",
       "      <td>130</td>\n",
       "      <td>25</td>\n",
       "      <td>0.9</td>\n",
       "    </tr>\n",
       "    <tr>\n",
       "      <th>9</th>\n",
       "      <td>29446</td>\n",
       "      <td>135</td>\n",
       "      <td>25</td>\n",
       "      <td>0.0</td>\n",
       "    </tr>\n",
       "    <tr>\n",
       "      <th>10</th>\n",
       "      <td>29446</td>\n",
       "      <td>170</td>\n",
       "      <td>25</td>\n",
       "      <td>0.8</td>\n",
       "    </tr>\n",
       "    <tr>\n",
       "      <th>11</th>\n",
       "      <td>29446</td>\n",
       "      <td>218</td>\n",
       "      <td>25</td>\n",
       "      <td>0.9</td>\n",
       "    </tr>\n",
       "    <tr>\n",
       "      <th>12</th>\n",
       "      <td>29446</td>\n",
       "      <td>1218</td>\n",
       "      <td>25</td>\n",
       "      <td>0.9</td>\n",
       "    </tr>\n",
       "    <tr>\n",
       "      <th>13</th>\n",
       "      <td>36578</td>\n",
       "      <td>87</td>\n",
       "      <td>25</td>\n",
       "      <td>0.0</td>\n",
       "    </tr>\n",
       "    <tr>\n",
       "      <th>14</th>\n",
       "      <td>36578</td>\n",
       "      <td>146</td>\n",
       "      <td>25</td>\n",
       "      <td>0.0</td>\n",
       "    </tr>\n",
       "    <tr>\n",
       "      <th>15</th>\n",
       "      <td>36578</td>\n",
       "      <td>218</td>\n",
       "      <td>25</td>\n",
       "      <td>0.0</td>\n",
       "    </tr>\n",
       "    <tr>\n",
       "      <th>16</th>\n",
       "      <td>36578</td>\n",
       "      <td>589</td>\n",
       "      <td>25</td>\n",
       "      <td>0.0</td>\n",
       "    </tr>\n",
       "    <tr>\n",
       "      <th>17</th>\n",
       "      <td>36578</td>\n",
       "      <td>1075</td>\n",
       "      <td>25</td>\n",
       "      <td>0.8</td>\n",
       "    </tr>\n",
       "  </tbody>\n",
       "</table>\n",
       "</div>"
      ],
      "text/plain": [
       "    CUSTOMER_ID  PRODUCT_ID  Semana  probabilidad_compra\n",
       "0         29446          26      25                  0.0\n",
       "1         29446          28      25                  0.7\n",
       "2         29446          79      25                  0.5\n",
       "3         29446          81      25                  0.6\n",
       "4         29446          87      25                  0.7\n",
       "5         29446          91      25                  0.8\n",
       "6         29446         105      25                  0.0\n",
       "7         29446         120      25                  0.8\n",
       "8         29446         130      25                  0.9\n",
       "9         29446         135      25                  0.0\n",
       "10        29446         170      25                  0.8\n",
       "11        29446         218      25                  0.9\n",
       "12        29446        1218      25                  0.9\n",
       "13        36578          87      25                  0.0\n",
       "14        36578         146      25                  0.0\n",
       "15        36578         218      25                  0.0\n",
       "16        36578         589      25                  0.0\n",
       "17        36578        1075      25                  0.8"
      ]
     },
     "execution_count": 110,
     "metadata": {},
     "output_type": "execute_result"
    }
   ],
   "source": [
    "df_main"
   ]
  }
 ],
 "metadata": {
  "kernelspec": {
   "display_name": "Python 3",
   "language": "python",
   "name": "python3"
  },
  "language_info": {
   "codemirror_mode": {
    "name": "ipython",
    "version": 3
   },
   "file_extension": ".py",
   "mimetype": "text/x-python",
   "name": "python",
   "nbconvert_exporter": "python",
   "pygments_lexer": "ipython3",
   "version": "3.13.0"
  }
 },
 "nbformat": 4,
 "nbformat_minor": 2
}
