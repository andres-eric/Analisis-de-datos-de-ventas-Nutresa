{
 "cells": [
  {
   "cell_type": "code",
   "execution_count": 145,
   "metadata": {},
   "outputs": [],
   "source": [
    "# ------------------------- #\n",
    "# Importación de librerías  #\n",
    "# ------------------------- #\n",
    "\n",
    "# Librerías estándar para análisis de datos y cálculos matemáticos\n",
    "import numpy as np\n",
    "import pandas as pd\n",
    "import math\n",
    "import random\n",
    "\n",
    "# Librerías para bases de datos\n",
    "#import pyodbc\n",
    "import sqlite3\n",
    "\n",
    "# Visualización\n",
    "import seaborn as sns\n",
    "\n",
    "# Machine Learning y modelado\n",
    "from sklearn.model_selection import train_test_split\n",
    "from sklearn.cluster import KMeans\n",
    "from imblearn.over_sampling import RandomOverSampler\n",
    "from sklearn.cluster import KMeans\n",
    "\n",
    "# Estadísticas y pruebas de hipótesis\n",
    "from scipy.stats import (\n",
    "    rv_discrete, t, binom, chi2, f, \n",
    "    ttest_ind\n",
    ")\n",
    "from sklearn.utils import resample\n",
    "\n",
    "# ------------------------- #\n",
    "# Importación de módulos    #\n",
    "# ------------------------- #\n",
    "\n",
    "# Modulo EDA\n",
    "import importlib\n",
    "import funciones_eda\n",
    "importlib.reload(funciones_eda)\n",
    "from funciones_eda import *\n",
    "\n",
    "# Módulo de funciones personalizadas\n",
    "import funciones_m\n",
    "importlib.reload(funciones_m)\n",
    "from funciones_m import *\n",
    "\n",
    "# Módulo de distribución\n",
    "import funciones_distribucion\n",
    "importlib.reload(funciones_distribucion)\n",
    "from funciones_distribucion import *\n",
    "\n",
    "# Módulo de pruebas significativas\n",
    "import funciones_pruebas_significativas\n",
    "importlib.reload(funciones_pruebas_significativas)\n",
    "from funciones_pruebas_significativas import *\n",
    "\n",
    "# Módulo de clostering\n",
    "import funciones_clostering\n",
    "importlib.reload(funciones_clostering)\n",
    "from funciones_clostering import *\n"
   ]
  },
  {
   "cell_type": "markdown",
   "metadata": {},
   "source": [
    "### Pip line de datos nuevos"
   ]
  },
  {
   "cell_type": "code",
   "execution_count": 146,
   "metadata": {},
   "outputs": [],
   "source": [
    "url = 'datos_nuevos_prediccion.csv'\n",
    "df = pd.read_csv(url, index_col=None)\n",
    "#df.drop('index', axis=1, inplace=True)"
   ]
  },
  {
   "cell_type": "code",
   "execution_count": 147,
   "metadata": {},
   "outputs": [],
   "source": [
    "# tablas con encodin producto y cliente\n",
    "url_2 = 'tabla_target_cliente.csv'\n",
    "df_cliente = pd.read_csv(url_2, index_col=None)\n",
    "df_cliente=df_cliente.drop_duplicates()\n",
    "# tablas con encodin producto y cliente\n",
    "url_ = 'tabla_target_producto.csv'\n",
    "df_producto = pd.read_csv(url_, index_col=None)\n",
    "df_producto=df_producto.drop_duplicates()\n",
    "#df.drop('index', axis=1, inplace=True)"
   ]
  },
  {
   "cell_type": "code",
   "execution_count": 148,
   "metadata": {},
   "outputs": [],
   "source": [
    "df_main=df.merge(df_cliente, on='CUSTOMER_ID', how='inner')\n",
    "df_main=df_main.merge(df_producto, on='PRODUCT_ID', how='inner')\n",
    "\n",
    "df_main=df_main[['customer_target_mean','product_target_mean','Semana']]"
   ]
  },
  {
   "cell_type": "code",
   "execution_count": 149,
   "metadata": {},
   "outputs": [],
   "source": [
    "df_main = df_main.rename(columns={\n",
    "    'customer_target_mean': 'target_cliente',\n",
    "    'product_target_mean': 'target_producto',\n",
    "})"
   ]
  },
  {
   "cell_type": "code",
   "execution_count": 150,
   "metadata": {},
   "outputs": [],
   "source": [
    "df_main=df_main.sort_values(by=['target_cliente','target_producto','Semana'])"
   ]
  },
  {
   "cell_type": "markdown",
   "metadata": {},
   "source": [
    "### Prediccion de nuevos datos "
   ]
  }
 ],
 "metadata": {
  "kernelspec": {
   "display_name": "Python 3",
   "language": "python",
   "name": "python3"
  },
  "language_info": {
   "codemirror_mode": {
    "name": "ipython",
    "version": 3
   },
   "file_extension": ".py",
   "mimetype": "text/x-python",
   "name": "python",
   "nbconvert_exporter": "python",
   "pygments_lexer": "ipython3",
   "version": "3.13.0"
  }
 },
 "nbformat": 4,
 "nbformat_minor": 2
}
